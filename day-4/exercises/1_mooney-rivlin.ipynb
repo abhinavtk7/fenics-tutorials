{
 "cells": [
  {
   "cell_type": "code",
   "execution_count": 193,
   "metadata": {},
   "outputs": [],
   "source": [
    "from dolfin import *\n",
    "from matplotlib import pyplot as plt"
   ]
  },
  {
   "cell_type": "code",
   "execution_count": 194,
   "metadata": {},
   "outputs": [],
   "source": [
    "# Create mesh and define function space\n",
    "\n",
    "length, depth = 3000, 300\n",
    "num_ele_along_depth = 10\n",
    "ele_size = depth/num_ele_along_depth\n",
    "mesh = RectangleMesh(Point(0, 0), Point(length, depth),\n",
    "                     int(length/ele_size), int(depth/ele_size))\n",
    "V = VectorFunctionSpace(mesh, \"Lagrange\", 1)"
   ]
  },
  {
   "cell_type": "code",
   "execution_count": 6,
   "metadata": {},
   "outputs": [],
   "source": [
    "\n",
    "# Mark boundary subdomians\n",
    "clamped_boundary = CompiledSubDomain(\"near(x[0],0)\")\n",
    "load_boundary = CompiledSubDomain(\"near(x[0],3000)\")\n",
    "\n",
    "# Define Dirichlet boundary (x = 0 or x = 1)\n",
    "c = Expression((\"0.0\", \"0.0\"), degree=1)\n",
    "r = Expression((\"-disp_step*t\"), disp_step=100, t=1, degree=1)\n",
    "\n",
    "bcl = DirichletBC(V, c, clamped_boundary)\n",
    "bcr = DirichletBC(V.sub(1), r, load_boundary)\n",
    "bcs = [bcl, bcr]\n",
    "\n",
    "# Define functions\n",
    "du = TrialFunction(V)            # Incremental displacement\n",
    "v = TestFunction(V)             # Test function\n",
    "u = Function(V)                 # Displacement from previous iteration\n",
    "B = Constant((0.0, 0.0))  # Body force per unit volume\n",
    "T = Constant((0.0, 0.0))  # Traction force on the boundary\n",
    "\n",
    "# Kinematics\n",
    "d = u.geometric_dimension()\n",
    "I = Identity(d)             # Identity tensor\n",
    "F = I + grad(u)             # Deformation gradient\n",
    "C = F.T*F                   # Right Cauchy-Green tensor\n",
    "\n",
    "# Invariants of deformation tensors\n",
    "Ic = tr(C)\n",
    "J = det(F)"
   ]
  },
  {
   "cell_type": "markdown",
   "metadata": {},
   "source": [
    "https://iopscience.iop.org/article/10.1088/1742-6596/1741/1/012047/pdf"
   ]
  },
  {
   "cell_type": "code",
   "execution_count": 7,
   "metadata": {},
   "outputs": [],
   "source": [
    "# Elasticity parameters\n",
    "E, nu = 20, 0.4995\n",
    "mu, lmbda = (E/(2*(1 + nu))), (E*nu/((1 + nu)*(1 - 2*nu)))\n",
    "\n",
    "\n",
    "# Define the material parameters\n",
    "c10 = Constant(3.47)  # Mooney-Rivlin parameter C10\n",
    "c01 = Constant(0.69)  # Mooney-Rivlin parameter C01\n",
    "D1 = Constant(0.00028)"
   ]
  },
  {
   "cell_type": "code",
   "execution_count": null,
   "metadata": {},
   "outputs": [],
   "source": [
    "# Define the Mooney-Rivlin strain-energy density function\n",
    "I1 = tr(C)\n",
    "I2 = 0.5 * (tr(C) ** 2 - tr(C * C))\n",
    "psi= c10 * (I1 - 3) + c01 * (I2 - 3) + 1/D1* (J-1)**2\n",
    "\n",
    "# Stored strain energy density (compressible neo-Hookean model)\n",
    "# psi = (mu/2)*(Ic - 3) - mu*ln(J) + (lmbda/2)*(ln(J))**2\n",
    "\n",
    "\n",
    "# Total potential energy\n",
    "Pi = psi*dx - dot(B, u)*dx - dot(T, u)*ds\n",
    "\n",
    "# Compute first variation of Pi (directional derivative about u in the direction of v)\n",
    "F = derivative(Pi, u, v)\n",
    "\n",
    "# Compute Jacobian of F\n",
    "J = derivative(F, u, du)\n",
    "\n",
    "# Compute solution\n",
    "problem = NonlinearVariationalProblem(F, u, bcs, J)\n",
    "solver = NonlinearVariationalSolver(problem)\n",
    "\n",
    "prm = solver.parameters\n",
    "prm['newton_solver']['absolute_tolerance'] = 1E-7\n",
    "prm['newton_solver']['relative_tolerance'] = 1E-7\n",
    "prm['newton_solver']['maximum_iterations'] = 1000\n",
    "prm['newton_solver']['linear_solver'] = 'gmres'\n",
    "prm['newton_solver']['preconditioner'] = 'hypre_euclid'\n",
    "prm['newton_solver']['krylov_solver']['absolute_tolerance'] = 1E-7\n",
    "prm['newton_solver']['krylov_solver']['relative_tolerance'] = 1E-7\n",
    "prm['newton_solver']['krylov_solver']['maximum_iterations'] = 1000\n",
    "\n",
    "solver.solve()\n",
    "print(\"The minimum displacement is: {0:6.3e} mm\".format(u.vector().min()))"
   ]
  },
  {
   "cell_type": "code",
   "execution_count": 215,
   "metadata": {},
   "outputs": [
    {
     "data": {
      "text/plain": [
       "<matplotlib.collections.PolyCollection at 0x7ff3893aedd8>"
      ]
     },
     "execution_count": 215,
     "metadata": {},
     "output_type": "execute_result"
    },
    {
     "data": {
      "image/png": "[encoded data removed]",
      "text/plain": [
       "<Figure size 1296x1152 with 1 Axes>"
      ]
     },
     "metadata": {
      "needs_background": "light"
     },
     "output_type": "display_data"
    }
   ],
   "source": [
    "plt.figure(figsize=(18, 16))\n",
    "# Plot solution\n",
    "scale_factor = 1/2\n",
    "plot(u*scale_factor, title='Displacement', mode='displacement')"
   ]
  },
  {
   "cell_type": "code",
   "execution_count": null,
   "metadata": {},
   "outputs": [],
   "source": []
  },
  {
   "cell_type": "code",
   "execution_count": null,
   "metadata": {},
   "outputs": [],
   "source": []
  }
 ],
 "metadata": {
  "kernelspec": {
   "display_name": "Python 3",
   "language": "python",
   "name": "python3"
  },
  "language_info": {
   "codemirror_mode": {
    "name": "ipython",
    "version": 3
   },
   "file_extension": ".py",
   "mimetype": "text/x-python",
   "name": "python",
   "nbconvert_exporter": "python",
   "pygments_lexer": "ipython3",
   "version": "3.6.7"
  },
  "orig_nbformat": 4
 },
 "nbformat": 4,
 "nbformat_minor": 2
}
