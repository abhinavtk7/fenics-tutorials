{
 "cells": [
  {
   "cell_type": "markdown",
   "metadata": {},
   "source": [
    "# Nonlinear Poisson equation\n",
    "\n",
    "$$-div(q(u)*\\Delta(u)) = 0,$$\n",
    "$$u = 0\\text{ at }x=0, u=1\\text{ at }x=1$$\n",
    "$$q(u) = (1+u)^m$$\n",
    "\n",
    "Solution method: Picard iteration (successive substitutions).\n",
    "\n",
    "Picard iteration is a simple and widely used technique for solving nonlinear equations. It is based on the idea of reformulating the original equation as a fixed-point problem. The method involves iteratively updating the solution until it converges to the desired solution.\n"
   ]
  },
  {
   "cell_type": "code",
   "execution_count": 2,
   "metadata": {},
   "outputs": [],
   "source": [
    "from dolfin import *\n",
    "import numpy\n",
    "\n",
    "mesh = IntervalMesh(40, 0, 1)\n",
    "V = FunctionSpace(mesh, 'Lagrange', 1)"
   ]
  },
  {
   "cell_type": "code",
   "execution_count": 3,
   "metadata": {},
   "outputs": [],
   "source": [
    "# Define boundary conditions\n",
    "\n",
    "tol = 1E-14\n",
    "\n",
    "\n",
    "left_boundary = CompiledSubDomain(\"on_boundary && near(x[0],0)\")\n",
    "right_boundary = CompiledSubDomain(\"on_boundary && near(x[0],1)\")\n",
    "\n",
    "\n",
    "bc_0 = DirichletBC(V, Constant(0.0), left_boundary)\n",
    "bc_1 = DirichletBC(V, Constant(1.0), right_boundary)\n",
    "bcs = [bc_0, bc_1]"
   ]
  },
  {
   "cell_type": "code",
   "execution_count": 4,
   "metadata": {},
   "outputs": [],
   "source": [
    "m = 5\n",
    "\n",
    "\n",
    "def q(u):\n",
    "    return (1+u)**m\n",
    "\n",
    "\n",
    "# Define variational problem for Picard iteration\n",
    "u = TrialFunction(V)\n",
    "v = TestFunction(V)\n",
    "u_k = interpolate(Constant(0.0), V)  # previous (known) u\n"
   ]
  },
  {
   "cell_type": "code",
   "execution_count": 5,
   "metadata": {},
   "outputs": [],
   "source": [
    "a = inner(q(u_k)*nabla_grad(u), nabla_grad(v))*dx\n",
    "f = Constant(0.0)\n",
    "L = f*v*dx"
   ]
  },
  {
   "cell_type": "markdown",
   "metadata": {},
   "source": [
    "Absolute tolerance and relative tolerance are two different concepts used to define the acceptable level of error or difference between two values when comparing them, especially in numerical computations, algorithms, and simulations.\n",
    "\n",
    "1. Absolute Tolerance:\n",
    "Absolute tolerance is a fixed value that represents the maximum allowable difference between two values. It is independent of the magnitude or scale of the values being compared. If the absolute difference between the two values is smaller than the absolute tolerance, they are considered to be equal or within the acceptable range.\n",
    "\n",
    "1. Relative Tolerance:\n",
    "Relative tolerance, on the other hand, takes into account the magnitude or scale of the values being compared. It defines an acceptable percentage or fraction of relative difference between two values. \n",
    "\n",
    "The idea is that the relative tolerance allows for more significant differences between large values and smaller differences between small values. This is especially useful when dealing with numbers of varying magnitudes.\n",
    "\n",
    "In summary, absolute tolerance is a fixed value used to check the maximum allowable difference, while relative tolerance is a percentage or fraction-based value that scales with the magnitude of the numbers being compared. Depending on the situation and the nature of the values being compared, one or both types of tolerances may be used to ensure accurate and meaningful comparisons."
   ]
  },
  {
   "cell_type": "code",
   "execution_count": 6,
   "metadata": {},
   "outputs": [],
   "source": [
    "\n",
    "# Picard iterations\n",
    "u = Function(V)     # new unknown function\n",
    "absolute_error = 1.0           # error measure ||u-u_k||\n",
    "relative_error = 1.0\n",
    "absolute_tolerance = 1.0E-5        # tolerance\n",
    "relative_tolerance = 1.0E-5\n",
    "iter = 0            # iteration counter\n",
    "maxiter = 25        # max no of iterations allowed"
   ]
  },
  {
   "cell_type": "code",
   "execution_count": 7,
   "metadata": {},
   "outputs": [
    {
     "name": "stdout",
     "output_type": "stream",
     "text": [
      "iter =  1, absolute_error = 3.72e+00, relative_error = 1.00e+00\n",
      "iter =  2, absolute_error = 1.79e+00, relative_error = 4.80e-01\n",
      "iter =  3, absolute_error = 3.56e-01, relative_error = 7.04e-02\n",
      "iter =  4, absolute_error = 3.64e-01, relative_error = 7.60e-02\n",
      "iter =  5, absolute_error = 9.05e-02, relative_error = 1.89e-02\n",
      "iter =  6, absolute_error = 9.63e-02, relative_error = 1.99e-02\n",
      "iter =  7, absolute_error = 2.93e-02, relative_error = 6.01e-03\n",
      "iter =  8, absolute_error = 2.47e-02, relative_error = 5.07e-03\n",
      "iter =  9, absolute_error = 1.00e-02, relative_error = 2.06e-03\n",
      "iter = 10, absolute_error = 5.94e-03, relative_error = 1.22e-03\n",
      "iter = 11, absolute_error = 3.27e-03, relative_error = 6.73e-04\n",
      "iter = 12, absolute_error = 1.36e-03, relative_error = 2.80e-04\n",
      "iter = 13, absolute_error = 1.01e-03, relative_error = 2.08e-04\n",
      "iter = 14, absolute_error = 3.06e-04, relative_error = 6.28e-05\n",
      "iter = 15, absolute_error = 2.97e-04, relative_error = 6.09e-05\n",
      "iter = 16, absolute_error = 7.57e-05, relative_error = 1.56e-05\n",
      "iter = 17, absolute_error = 8.20e-05, relative_error = 1.68e-05\n",
      "iter = 18, absolute_error = 2.31e-05, relative_error = 4.75e-06\n",
      "iter = 19, absolute_error = 2.14e-05, relative_error = 4.40e-06\n",
      "iter = 20, absolute_error = 7.85e-06, relative_error = 1.61e-06\n"
     ]
    }
   ],
   "source": [
    "while (absolute_error > absolute_tolerance or relative_error > relative_tolerance) and iter < maxiter:\n",
    "    iter += 1\n",
    "    solve(a == L, u, bcs)\n",
    "    diff = u.vector().vec().array - u_k.vector().vec().array\n",
    "    absolute_error = numpy.linalg.norm(diff)\n",
    "    if iter > 1:\n",
    "        relative_error = absolute_error / \\\n",
    "            min(numpy.linalg.norm(u.vector()[:]),\n",
    "                numpy.linalg.norm(u_k.vector()[:]))\n",
    "    print('iter ={0:3d}, absolute_error = {1:5.2e}, relative_error = {2:5.2e}'.format(\n",
    "        iter, absolute_error, relative_error))\n",
    "    u_k.assign(u)   # update for next iteration"
   ]
  },
  {
   "cell_type": "code",
   "execution_count": 8,
   "metadata": {},
   "outputs": [
    {
     "data": {
      "text/plain": [
       "[<matplotlib.lines.Line2D at 0x7f0a6a49be48>]"
      ]
     },
     "execution_count": 8,
     "metadata": {},
     "output_type": "execute_result"
    }
   ],
   "source": [
    "plot(u_k)"
   ]
  },
  {
   "cell_type": "code",
   "execution_count": 9,
   "metadata": {},
   "outputs": [
    {
     "name": "stdout",
     "output_type": "stream",
     "text": [
      "Max error:1.208e-06\n"
     ]
    }
   ],
   "source": [
    "# Find max error\n",
    "u_exact = Expression(\n",
    "    'pow((pow(2, m+1)-1)*x[0] + 1, 1.0/(m+1)) - 1', m=m, degree=1)\n",
    "u_e = interpolate(u_exact, V)\n",
    "diff = numpy.abs(u_e.vector()[:] - u.vector()[:]).max()\n",
    "print('Max error:{0:5.3e}'.format(diff))"
   ]
  },
  {
   "cell_type": "code",
   "execution_count": null,
   "metadata": {},
   "outputs": [],
   "source": []
  },
  {
   "cell_type": "code",
   "execution_count": null,
   "metadata": {},
   "outputs": [],
   "source": []
  }
 ],
 "metadata": {
  "kernelspec": {
   "display_name": "Python 3",
   "language": "python",
   "name": "python3"
  },
  "language_info": {
   "codemirror_mode": {
    "name": "ipython",
    "version": 3
   },
   "file_extension": ".py",
   "mimetype": "text/x-python",
   "name": "python",
   "nbconvert_exporter": "python",
   "pygments_lexer": "ipython3",
   "version": "3.6.7"
  },
  "orig_nbformat": 4
 },
 "nbformat": 4,
 "nbformat_minor": 2
}
