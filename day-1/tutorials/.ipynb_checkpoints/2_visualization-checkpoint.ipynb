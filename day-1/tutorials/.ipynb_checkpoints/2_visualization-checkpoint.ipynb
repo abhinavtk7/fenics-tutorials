{
 "cells": [
  {
   "cell_type": "markdown",
   "metadata": {},
   "source": [
    "# Visualizing simulation results"
   ]
  },
  {
   "cell_type": "markdown",
   "metadata": {},
   "source": [
    "Once the simulation is performed in FEniCS and the results are obtained, this tutorial will show you how to save the output in the XDMF file format. XDMF is ideal for storing large-scale scientific data, especially for finite element simulations, thanks to its flexibility and efficiency."
   ]
  },
  {
   "cell_type": "code",
   "execution_count": 9,
   "metadata": {},
   "outputs": [],
   "source": [
    "from dolfin import *\n",
    "num_elements = 30\n",
    "mesh = IntervalMesh(num_elements, 0, 1)\n",
    "U = FunctionSpace(mesh, \"CG\", 1)\n",
    "\n",
    "u_D = Constant(0.0)\n",
    "boundary = CompiledSubDomain(\"on_boundary\")\n",
    "bc = DirichletBC(U, u_D, boundary)\n",
    "u, v = TrialFunction(U), TestFunction(U)\n",
    "\n",
    "a = inner(grad(u), grad(v)) * dx\n",
    "f_expr = Expression(\"pi*pi*sin(pi*x[0])\", pi=np.pi, degree=2)\n",
    "L = f_expr * v * dx\n",
    "\n",
    "u_sol = Function(U, name = \"field\")\n",
    "solve(a == L, u_sol, bc)"
   ]
  },
  {
   "cell_type": "markdown",
   "metadata": {},
   "source": [
    "## Option 1: Write data efficiently using `with` syntax."
   ]
  },
  {
   "cell_type": "markdown",
   "metadata": {},
   "source": [
    "FEniCS provides us with an XDMFFile class for efficiently handling XDMF files and storing simulation results."
   ]
  },
  {
   "cell_type": "code",
   "execution_count": 10,
   "metadata": {},
   "outputs": [],
   "source": [
    "with XDMFFile(\"output/result.xdmf\") as outfile:\n",
    "    outfile.write(u_sol)"
   ]
  },
  {
   "cell_type": "markdown",
   "metadata": {},
   "source": [
    "Let's break down the command step by step:\n",
    "\n",
    "1. `XDMFFile`: This is a class in FEniCS used to write simulation data to an XDMF file. XDMF is an XML-based file format commonly used to store scientific data, especially for finite element simulations.\n",
    "\n",
    "2. `\"output/result.xdmf\"`: This is the file path and name where the XDMF file will be created or updated. In this case, the file will be named \"result.xdmf\" and will be located in the \"output\" directory (relative to the current working directory).\n",
    "\n",
    "3. `with`: This keyword is used to define a context manager in Python. It ensures that resources associated with the context (in this case, the XDMFFile object) are properly managed and released when the block of code inside the `with` statement is executed.\n",
    "\n",
    "4. `as outfile`: This assigns the XDMFFile object to the variable `outfile`, which can be used to interact with the file and write data.\n",
    "\n",
    "5. `outfile.write(u_sol)`: This line of code writes the data `u_sol` to the XDMF file. `u_sol` is the variable containing the solution. Note that the name that is passed on to the variable during its creation is the name that will appear in the visualization tool paraview.\n",
    "\n",
    "Overall, this command creates an XDMFFile object, opens the file \"output/result.xdmf\" for writing, writes the data contained in the `u_sol` variable to the file, and then automatically closes the file after the code block within the `with` statement is executed. This allows for efficient and controlled writing of simulation results to an XDMF file, which can later be visualized using tools like Paraview to analyze and interpret the simulation data."
   ]
  },
  {
   "cell_type": "markdown",
   "metadata": {},
   "source": [
    "## Option 2: Use this to write data when dealing with timeseries"
   ]
  },
  {
   "cell_type": "markdown",
   "metadata": {},
   "source": [
    "In engineering, numerous problems demand the consideration of multiple variables and time-steps, which subsequently leads to the need for writing these variables to a file in a time series format. In such cases, FEniCS offers a convenient solution through the utilization of the XDMFFile class, facilitating efficient storage of simulation results."
   ]
  },
  {
   "cell_type": "markdown",
   "metadata": {},
   "source": [
    "**We can access the `parameters` of the `XDMFFile` object to control its behaviour:**\n",
    "- **functions_share_mesh**: Default is false, it controls whether all functions on a single time step share the same mesh. If true the files created will be smaller and also behave better in Paraview.\n",
    "- **rewrite_function_mesh**: Default settings is true, i.e, it controls whether the mesh will be rewritten every time step. If the mesh does not change this can be turned off to create smaller files. \n",
    "- **flush_output**: Default is false, it controls the ability of Paraview to render during execution. If you are doing a time dependent analysis, setting it to true will allow you to visualize results during run."
   ]
  },
  {
   "cell_type": "code",
   "execution_count": 12,
   "metadata": {},
   "outputs": [],
   "source": [
    "outfile = XDMFFile(\"output/result.xdmf\")\n",
    "outfile.parameters[\"functions_share_mesh\"] = True\n",
    "outfile.parameters[\"rewrite_function_mesh\"] = False\n",
    "outfile.parameters[\"flush_output\"] = True\n",
    "\n",
    "time_step = 1\n",
    "outfile.write(u_sol, time_step)\n",
    "outfile.close()"
   ]
  },
  {
   "cell_type": "markdown",
   "metadata": {},
   "source": [
    "At the end of the execution it is recommended to close the `XDMFFile` object."
   ]
  }
 ],
 "metadata": {
  "kernelspec": {
   "display_name": "Python 3",
   "language": "python",
   "name": "python3"
  },
  "language_info": {
   "codemirror_mode": {
    "name": "ipython",
    "version": 3
   },
   "file_extension": ".py",
   "mimetype": "text/x-python",
   "name": "python",
   "nbconvert_exporter": "python",
   "pygments_lexer": "ipython3",
   "version": "3.6.7"
  },
  "widgets": {
   "application/vnd.jupyter.widget-state+json": {
    "state": {},
    "version_major": 2,
    "version_minor": 0
   }
  }
 },
 "nbformat": 4,
 "nbformat_minor": 4
}
