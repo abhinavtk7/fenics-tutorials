{
 "cells": [
  {
   "cell_type": "markdown",
   "metadata": {},
   "source": [
    "# Convergence"
   ]
  },
  {
   "cell_type": "markdown",
   "metadata": {},
   "source": [
    "Convergence analysis in the FEM is a critical process that evaluates the accuracy and reliability of numerical solutions to PDEs. It involves discretizing the continuous problem into a mesh of elements and studying how the numerical solution converges to the exact solution as the mesh is refined. \n",
    "\n",
    "By analyzing various error norms and convergence rates, researchers can determine the reliability of the numerical scheme, select appropriate mesh resolutions, and validate results against analytical solutions. \n",
    "\n",
    "Please visit the official documentation link provided to learn how to modify the mesh. After familiarizing yourself with the process, return here to implement the changes and visualize the updated results.\n",
    "\n",
    "https://fenicsproject.org/olddocs/dolfin/latest/python/demos/built-in-meshes/demo_built-in-meshes.py.html"
   ]
  },
  {
   "cell_type": "code",
   "execution_count": null,
   "metadata": {},
   "outputs": [],
   "source": [
    "from dolfin import *"
   ]
  },
  {
   "cell_type": "markdown",
   "metadata": {},
   "source": [
    "**Change this portion of the code to make a 2D unit square mesh and perform the analysis with mesh size:**\n",
    "1. $2\\times 2$\n",
    "2. $5\\times 5$\n",
    "3. $10\\times 10$\n",
    "4. $20\\times 20$\n",
    "5. $50\\times 50$"
   ]
  },
  {
   "cell_type": "code",
   "execution_count": null,
   "metadata": {},
   "outputs": [],
   "source": [
    "mesh = IntervalMesh(30, 0, 1)"
   ]
  },
  {
   "cell_type": "code",
   "execution_count": 1,
   "metadata": {},
   "outputs": [],
   "source": [
    "U = FunctionSpace(mesh, \"CG\", 1)\n",
    "\n",
    "u_D = Constant(0.0)\n",
    "boundary = CompiledSubDomain(\"on_boundary\")\n",
    "bc = DirichletBC(U, u_D, boundary)\n",
    "u, v = TrialFunction(U), TestFunction(U)\n",
    "\n",
    "a = inner(grad(u), grad(v)) * dx\n",
    "f_expr = Expression(\"pi*pi*sin(pi*x[0])\", pi=np.pi, degree=2)\n",
    "L = f_expr * v * dx\n",
    "\n",
    "u_sol = Function(U, name = \"field\")\n",
    "solve(a == L, u_sol, bc)\n",
    "\n",
    "with XDMFFile(\"output/result.xdmf\") as outfile:\n",
    "    outfile.write(u_sol)"
   ]
  }
 ],
 "metadata": {
  "kernelspec": {
   "display_name": "Python 3",
   "language": "python",
   "name": "python3"
  },
  "language_info": {
   "codemirror_mode": {
    "name": "ipython",
    "version": 3
   },
   "file_extension": ".py",
   "mimetype": "text/x-python",
   "name": "python",
   "nbconvert_exporter": "python",
   "pygments_lexer": "ipython3",
   "version": "3.6.7"
  },
  "widgets": {
   "application/vnd.jupyter.widget-state+json": {
    "state": {},
    "version_major": 2,
    "version_minor": 0
   }
  }
 },
 "nbformat": 4,
 "nbformat_minor": 4
}
