{
 "cells": [
  {
   "cell_type": "markdown",
   "metadata": {},
   "source": [
    "**Exercise: Bimetallic Quasi-Static Thermal Simulation using Steel and Brass Unit Square using FEniCS**\n",
    "\n",
    "In this exercise, you will perform a bimetallic quasi-static thermal simulation using the Finite Element Method (FEM) with FEniCS. The simulation will involve a unit square made of two different materials: steel and brass. The goal is to analyze the steady-state temperature distribution within the square and observe the thermal behavior at the interface of the two materials.     |\n"
   ]
  },
  {
   "cell_type": "markdown",
   "metadata": {},
   "source": [
    "\n",
    "**Materials:**\n",
    "\n",
    "The following table provides the material properties for steel and brass:\n",
    "\n",
    "| Material | Thermal Conductivity (k) [W/mK] | Specific Heat Capacity (Cp) [J/kgK] | Density (ρ) [kg/m³] |\n",
    "|----------|-----------------------------|-----------------------------------|--------------------|\n",
    "| Steel    | 50.2                        | 486.0                             | 7850               |\n",
    "| Brass    | 109.0                       | 377.0                             | 8520               |"
   ]
  },
  {
   "cell_type": "markdown",
   "metadata": {},
   "source": [
    "\n",
    "**Task:**\n",
    "\n",
    "1. **Geometry and Mesh Generation:**\n",
    "   - Create a unit square with side length L = 1.0 units (you can choose any unit system).\n",
    "   - Divide the square into a suitable number of elements to create a mesh. You can start with a relatively coarse mesh and later refine it to observe its effect on the simulation results.\n"
   ]
  },
  {
   "cell_type": "markdown",
   "metadata": {},
   "source": [
    "\n",
    "2. **Setting up the Problem:**\n",
    "   - Define the governing equation for steady-state heat conduction in 2D. The equation involves the Laplace operator and accounts for the material properties.\n",
    "   - Implement appropriate boundary conditions for the simulation. Specify the temperature boundary condition for all four sides of the unit square. You can use Dirichlet boundary conditions, where you set the temperature values at the boundaries.\n"
   ]
  },
  {
   "cell_type": "markdown",
   "metadata": {},
   "source": [
    "\n",
    "3. **Material Properties:**\n",
    "   - Use the provided material properties for steel and brass.\n"
   ]
  },
  {
   "cell_type": "markdown",
   "metadata": {},
   "source": [
    "\n",
    "4. **Thermal Simulation:**\n",
    "   - Assemble the finite element problem using FEniCS and solve the system of equations to obtain the temperature distribution within the unit square.\n",
    "   - Perform the simulation for different time steps to observe the quasi-static behavior of the system. You can use a small time step for better accuracy.\n"
   ]
  },
  {
   "cell_type": "markdown",
   "metadata": {},
   "source": [
    "\n",
    "5. **Post-Processing and Analysis:**\n",
    "   - Visualize the temperature distribution using contour plots or color maps.\n",
    "   - Analyze the temperature distribution at the interface between steel and brass. Observe if there are any significant temperature gradients or discontinuities at this interface.\n"
   ]
  },
  {
   "cell_type": "markdown",
   "metadata": {},
   "source": [
    "\n",
    "6. **Mesh Refinement:**\n",
    "   - Re-run the simulation with a refined mesh (i.e., more elements) and compare the results with the coarser mesh. Discuss the differences and the effect of mesh refinement on the accuracy of the simulation.\n"
   ]
  },
  {
   "cell_type": "markdown",
   "metadata": {},
   "source": [
    "\n",
    "7. **Discussion and Conclusion:**\n",
    "   - Write a summary of your findings, including observations about the temperature distribution, behavior at the interface of the two materials, and the influence of mesh refinement on the simulation results.\n"
   ]
  }
 ],
 "metadata": {
  "language_info": {
   "name": "python"
  },
  "orig_nbformat": 4
 },
 "nbformat": 4,
 "nbformat_minor": 2
}
