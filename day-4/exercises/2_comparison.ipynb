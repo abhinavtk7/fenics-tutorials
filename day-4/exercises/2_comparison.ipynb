{
 "cells": [
  {
   "cell_type": "markdown",
   "metadata": {},
   "source": [
    "# Comparing linear elastic to hyper-elastic response\n",
    "\n",
    "In this exercise you have to compare the load-displacement response of linear elastic and hyperelastic models under the same loading condition.\n"
   ]
  },
  {
   "cell_type": "code",
   "execution_count": 22,
   "metadata": {},
   "outputs": [],
   "source": [
    "from dolfin import *\n",
    "from matplotlib import pyplot as plt\n",
    "# Create mesh and define function space\n",
    "\n",
    "\n",
    "def get_reaction_force(mesh):\n",
    "    mf = MeshFunction(\"size_t\", mesh, 1)\n",
    "    mf.set_all(0)\n",
    "    clamped_boundary.mark(mf, 1)\n",
    "    ds = Measure(\"ds\", subdomain_data=mf)\n",
    "    # Define the Neumann boundary condition for the traction vector\n",
    "    n = FacetNormal(mesh)\n",
    "    traction = dot(sigma(u), n)\n",
    "    # Integrate to get the traction vector\n",
    "    reaction = assemble(traction[1] * ds(1))\n",
    "    return reaction"
   ]
  },
  {
   "cell_type": "markdown",
   "metadata": {},
   "source": [
    "# Elastic\n"
   ]
  },
  {
   "cell_type": "code",
   "execution_count": 23,
   "metadata": {},
   "outputs": [],
   "source": [
    "def epsilon(u):\n",
    "    return 0.5*(grad(u) + grad(u).T)\n",
    "\n",
    "\n",
    "def sigma(u):\n",
    "    return lmbda*tr(epsilon(u))*Identity(dim) + 2*mu*epsilon(u)"
   ]
  },
  {
   "cell_type": "code",
   "execution_count": 24,
   "metadata": {},
   "outputs": [],
   "source": [
    "length, depth = 3000, 300\n",
    "num_ele_along_depth = 10\n",
    "ele_size = depth/num_ele_along_depth\n",
    "mesh = RectangleMesh(Point(0, 0), Point(length, depth),\n",
    "                     int(length/ele_size), int(depth/ele_size))"
   ]
  },
  {
   "cell_type": "markdown",
   "metadata": {},
   "source": [
    "## Mark boundary subdomians\n",
    "Mark the left edge as clamped_boundary and right edge as load_boundary"
   ]
  },
  {
   "cell_type": "code",
   "execution_count": 25,
   "metadata": {},
   "outputs": [],
   "source": [
    "clamped_boundary = \n",
    "load_boundary = "
   ]
  },
  {
   "cell_type": "code",
   "execution_count": 26,
   "metadata": {},
   "outputs": [],
   "source": [
    "U = VectorFunctionSpace(mesh, 'CG', 2)\n",
    "dim = mesh.topology().dim()\n",
    "fixed = Expression((\"0.0\", \"0.0\"), degree=1)\n",
    "load = Expression((\"-disp_step*t\"), disp_step=100, t=1, degree=1)\n",
    "\n",
    "bcl = DirichletBC(U, fixed, clamped_boundary)\n",
    "bcr = DirichletBC(U.sub(1), load, load_boundary)\n",
    "\n",
    "bc = [bcl, bcr]\n",
    "\n",
    "E, nu = 1, 0.45"
   ]
  },
  {
   "cell_type": "markdown",
   "metadata": {},
   "source": [
    "## Define the Lame's parameters"
   ]
  },
  {
   "cell_type": "code",
   "execution_count": null,
   "metadata": {},
   "outputs": [],
   "source": [
    "lmbda = \n",
    "mu ="
   ]
  },
  {
   "cell_type": "code",
   "execution_count": 27,
   "metadata": {},
   "outputs": [],
   "source": [
    "# Define variational problem\n",
    "u, v = TrialFunction(U), TestFunction(U)"
   ]
  },
  {
   "cell_type": "markdown",
   "metadata": {},
   "source": [
    "## Set the body force to 0 and define the linear and bilenear forms of the linear elastic problem"
   ]
  },
  {
   "cell_type": "code",
   "execution_count": null,
   "metadata": {},
   "outputs": [],
   "source": [
    "f = \n",
    "a = \n",
    "L = "
   ]
  },
  {
   "cell_type": "code",
   "execution_count": 28,
   "metadata": {},
   "outputs": [],
   "source": [
    "u = Function(U)\n",
    "problem = LinearVariationalProblem(a, L, u, bc)\n",
    "solver = LinearVariationalSolver(problem)\n",
    "\n",
    "elastic_reaction_force = []\n",
    "elastic_displacement = []\n",
    "for t in range(0, 30):\n",
    "    load.t = t\n",
    "    solver.solve()\n",
    "    elastic_displacement.append(load.t*100)\n",
    "    elastic_reaction_force.append(get_reaction_force(mesh))"
   ]
  },
  {
   "cell_type": "code",
   "execution_count": 29,
   "metadata": {},
   "outputs": [
    {
     "data": {
      "text/plain": [
       "[<matplotlib.lines.Line2D at 0x7f671ffe3a58>]"
      ]
     },
     "execution_count": 29,
     "metadata": {},
     "output_type": "execute_result"
    },
    {
     "data": {
      "image/png": "[encoded data removed]",
      "text/plain": [
       "<Figure size 576x576 with 1 Axes>"
      ]
     },
     "metadata": {
      "needs_background": "light"
     },
     "output_type": "display_data"
    }
   ],
   "source": [
    "plt.figure(figsize=(8, 8))\n",
    "plt.plot(elastic_displacement, elastic_reaction_force)"
   ]
  },
  {
   "cell_type": "markdown",
   "metadata": {},
   "source": [
    "# Hyperelastic\n"
   ]
  },
  {
   "cell_type": "markdown",
   "metadata": {},
   "source": [
    "Define the material model parameter. Check day-4, tutorial-1"
   ]
  },
  {
   "cell_type": "code",
   "execution_count": 30,
   "metadata": {},
   "outputs": [],
   "source": [
    "def sigma(u):\n",
    "    I = \n",
    "    F = variable(grad(u) + I)\n",
    "    J = \n",
    "    C =\n",
    "    I1 = \n",
    "    energy = \n",
    "    return 2 * diff(energy, F)"
   ]
  },
  {
   "cell_type": "code",
   "execution_count": 32,
   "metadata": {},
   "outputs": [
    {
     "name": "stdout",
     "output_type": "stream",
     "text": [
      "Calling FFC just-in-time (JIT) compiler, this may take some time.\n"
     ]
    },
    {
     "name": "stdout",
     "output_type": "stream",
     "text": [
      "Calling FFC just-in-time (JIT) compiler, this may take some time.\n",
      "Calling FFC just-in-time (JIT) compiler, this may take some time.\n"
     ]
    }
   ],
   "source": [
    "# Define functions\n",
    "du = TrialFunction(U)            # Incremental displacement\n",
    "v = TestFunction(U)             # Test function\n",
    "u = Function(U)                 # Displacement from previous iteration\n",
    "B = Constant((0.0, 0.0))  # Body force per unit volume\n",
    "T = Constant((0.0, 0.0))  # Traction force on the boundary\n",
    "\n",
    "# Kinematics\n",
    "d = u.geometric_dimension()\n",
    "I = Identity(d)             # Identity tensor\n",
    "F = \n",
    "C = \n",
    "\n",
    "# Invariants of deformation tensors\n",
    "Ic = \n",
    "J = \n",
    "\n",
    "# Stored strain energy density (compressible neo-Hookean model)\n",
    "psi = (mu/2)*(Ic - 3) - mu*ln(J) + (lmbda/2)*(ln(J))**2\n",
    "\n",
    "# Total potential energy\n",
    "Pi = psi*dx - dot(B, u)*dx - dot(T, u)*ds\n",
    "\n",
    "# Compute first variation of Pi (directional derivative about u in the direction of v)\n",
    "F = derivative(Pi, u, v)\n",
    "\n",
    "# Compute Jacobian of F\n",
    "J = derivative(F, u, du)\n",
    "\n",
    "# Compute solution\n",
    "problem = NonlinearVariationalProblem(F, u, bc, J)\n",
    "solver = NonlinearVariationalSolver(problem)\n",
    "\n",
    "prm = solver.parameters\n",
    "prm['newton_solver']['absolute_tolerance'] = 1E-7\n",
    "prm['newton_solver']['relative_tolerance'] = 1E-7\n",
    "prm['newton_solver']['maximum_iterations'] = 1000\n",
    "prm['newton_solver']['linear_solver'] = 'gmres'\n",
    "prm['newton_solver']['preconditioner'] = 'hypre_euclid'\n",
    "prm['newton_solver']['krylov_solver']['absolute_tolerance'] = 1E-7\n",
    "prm['newton_solver']['krylov_solver']['relative_tolerance'] = 1E-7\n",
    "prm['newton_solver']['krylov_solver']['maximum_iterations'] = 1000\n",
    "\n",
    "reaction_force = []\n",
    "displacement = []\n",
    "for t in range(0, 30):\n",
    "    load.t = t\n",
    "    solver.solve()\n",
    "    displacement.append(load.t*100)\n",
    "    reaction_force.append(get_reaction_force(mesh))"
   ]
  },
  {
   "cell_type": "code",
   "execution_count": 33,
   "metadata": {},
   "outputs": [
    {
     "data": {
      "text/plain": [
       "[<matplotlib.lines.Line2D at 0x7f671db7add8>]"
      ]
     },
     "execution_count": 33,
     "metadata": {},
     "output_type": "execute_result"
    },
    {
     "data": {
      "image/png": "[encoded data removed]",
      "text/plain": [
       "<Figure size 576x576 with 1 Axes>"
      ]
     },
     "metadata": {
      "needs_background": "light"
     },
     "output_type": "display_data"
    }
   ],
   "source": [
    "plt.figure(figsize=(8, 8))\n",
    "plt.plot(displacement, reaction_force)\n",
    "plt.plot(elastic_displacement, elastic_reaction_force)"
   ]
  },
  {
   "cell_type": "code",
   "execution_count": null,
   "metadata": {},
   "outputs": [],
   "source": []
  }
 ],
 "metadata": {
  "kernelspec": {
   "display_name": "Python 3",
   "language": "python",
   "name": "python3"
  },
  "language_info": {
   "codemirror_mode": {
    "name": "ipython",
    "version": 3
   },
   "file_extension": ".py",
   "mimetype": "text/x-python",
   "name": "python",
   "nbconvert_exporter": "python",
   "pygments_lexer": "ipython3",
   "version": "3.6.7"
  },
  "orig_nbformat": 4
 },
 "nbformat": 4,
 "nbformat_minor": 2
}
