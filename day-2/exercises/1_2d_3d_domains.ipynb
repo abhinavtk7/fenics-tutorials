{
 "cells": [
  {
   "cell_type": "markdown",
   "metadata": {},
   "source": [
    "# 2D and 3D domains\n",
    "\n",
    "Implement the learning of exercise-1 from day-1 to solve the non-linear Poisson's equation on 2D and 3D domains. Feel free to create the mesh of your preference for the problem.\n",
    "\n",
    "- Download and install Paraview.\n",
    "- Name the fields to be visualized. (To visualize a function in Paraview you have to name it in FEniCS. The way to do that is use the command `v.rename(\"name\", \"label\")`)\n",
    "- Write to XDMF the error and the solution.\n",
    "- Visualize the error and solution in Paraview\n",
    "\n",
    "Hint: Check day-1/tutorial-2 "
   ]
  },
  {
   "cell_type": "code",
   "execution_count": 1,
   "metadata": {},
   "outputs": [],
   "source": [
    "from dolfin import *\n",
    "import numpy"
   ]
  },
  {
   "cell_type": "markdown",
   "metadata": {},
   "source": [
    "Update this mesh to a unit square mesh."
   ]
  },
  {
   "cell_type": "code",
   "execution_count": 2,
   "metadata": {},
   "outputs": [],
   "source": [
    "\n",
    "mesh = UnitSquareMesh(32, 32)"
   ]
  },
  {
   "cell_type": "code",
   "execution_count": 3,
   "metadata": {},
   "outputs": [
    {
     "name": "stdout",
     "output_type": "stream",
     "text": [
      "Max error:4.953e-03\n"
     ]
    }
   ],
   "source": [
    "V = FunctionSpace(mesh, 'Lagrange', 1)\n",
    "\n",
    "left_boundary = CompiledSubDomain(\"on_boundary && near(x[0],0)\")\n",
    "right_boundary = CompiledSubDomain(\"on_boundary && near(x[0],1)\")\n",
    "\n",
    "bc_0 = DirichletBC(V, Constant(0.0), left_boundary)\n",
    "bc_1 = DirichletBC(V, Constant(1.0), right_boundary)\n",
    "bcs = [bc_0, bc_1]\n",
    "\n",
    "m = 5\n",
    "\n",
    "\n",
    "def q(u):\n",
    "    return (1+u)**m\n",
    "\n",
    "# Define variational problem\n",
    "v = TestFunction(V)\n",
    "du = TrialFunction(V)\n",
    "u = Function(V)  # most recently computed solution\n",
    "F = inner(q(u)*nabla_grad(u), nabla_grad(v))*dx\n",
    "\n",
    "J = derivative(F, u, du)\n",
    "\n",
    "# Compute solution\n",
    "problem = NonlinearVariationalProblem(F, u, bcs, J)\n",
    "solver = NonlinearVariationalSolver(problem)\n",
    "\n",
    "prm = solver.parameters\n",
    "prm['newton_solver']['absolute_tolerance'] = 1E-5\n",
    "prm['newton_solver']['relative_tolerance'] = 1E-5\n",
    "prm['newton_solver']['maximum_iterations'] = 25\n",
    "\n",
    "solver.solve()\n",
    "\n",
    "# Find max error\n",
    "u_exact = Expression(\n",
    "    'pow((pow(2, m+1)-1)*x[0] + 1, 1.0/(m+1)) - 1', m=m, degree=1)\n",
    "u_e = interpolate(u_exact, V)\n",
    "diff = numpy.abs(u_e.vector()[:] - u.vector()[:]).max()\n",
    "print('Max error:{0:5.3e}'.format(diff))"
   ]
  },
  {
   "cell_type": "code",
   "execution_count": 7,
   "metadata": {},
   "outputs": [],
   "source": [
    "u.rename(\"Solution\", \"u\")"
   ]
  },
  {
   "cell_type": "code",
   "execution_count": 13,
   "metadata": {},
   "outputs": [],
   "source": [
    "error = Function(V)\n",
    "error.vector()[:] = numpy.abs(u_e.vector() - u.vector())\n",
    "error.rename(\"Error\", \"e\")"
   ]
  },
  {
   "cell_type": "markdown",
   "metadata": {},
   "source": [
    "Export the error and solution vector to XDMF"
   ]
  },
  {
   "cell_type": "code",
   "execution_count": 14,
   "metadata": {},
   "outputs": [],
   "source": [
    "with XDMFFile(\"output/result2_1.xdmf\") as outfile:\n",
    "    outfile.write_checkpoint(u, \"Solution\", 0, XDMFFile.Encoding.HDF5, append=False)\n",
    "    outfile.write_checkpoint(error, \"Error\", 0, XDMFFile.Encoding.HDF5, append=True)"
   ]
  },
  {
   "cell_type": "markdown",
   "metadata": {},
   "source": []
  }
 ],
 "metadata": {
  "kernelspec": {
   "display_name": "Python 3",
   "language": "python",
   "name": "python3"
  },
  "language_info": {
   "codemirror_mode": {
    "name": "ipython",
    "version": 3
   },
   "file_extension": ".py",
   "mimetype": "text/x-python",
   "name": "python",
   "nbconvert_exporter": "python",
   "pygments_lexer": "ipython3",
   "version": "3.6.7"
  },
  "orig_nbformat": 4
 },
 "nbformat": 4,
 "nbformat_minor": 2
}
