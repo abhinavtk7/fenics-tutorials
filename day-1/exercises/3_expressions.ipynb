{
 "cells": [
  {
   "cell_type": "markdown",
   "metadata": {},
   "source": [
    "# Expressions\n",
    "\n",
    "In FEniCS, an Expression is a flexible and convenient way to define mathematical functions or expressions within the domain of interest. Expressions are often used to specify boundary conditions, source terms, initial conditions, or any other function needed in the formulation of the PDE problem.\n",
    "\n",
    "The beauty of using Expressions lies in their simplicity and directness. Users can define an Expression using a concise mathematical expression, incorporating spatial coordinates and/or time variables. Additionally, FEniCS supports the use of elementary mathematical functions, mathematical constants, and custom-defined functions within Expressions."
   ]
  },
  {
   "cell_type": "markdown",
   "metadata": {},
   "source": [
    "Please visit the official documentation link provided to learn how to modify expressions. After familiarizing yourself with the process, return here to implement the changes and visualize the updated results.\n",
    "\n",
    "https://fenicsproject.org/pub/tutorial/sphinx1/._ftut1003.html#index-28"
   ]
  },
  {
   "cell_type": "code",
   "execution_count": null,
   "metadata": {},
   "outputs": [],
   "source": [
    "from dolfin import *"
   ]
  },
  {
   "cell_type": "markdown",
   "metadata": {},
   "source": [
    "**Change this portion of the code to:**\n",
    "1. Make a 2D unit square mesh."
   ]
  },
  {
   "cell_type": "code",
   "execution_count": null,
   "metadata": {},
   "outputs": [],
   "source": [
    "mesh = IntervalMesh(30, 0, 1)"
   ]
  },
  {
   "cell_type": "code",
   "execution_count": null,
   "metadata": {},
   "outputs": [],
   "source": [
    "U = FunctionSpace(mesh, \"CG\", 1)\n",
    "\n",
    "u_D = Constant(0.0)\n",
    "boundary = CompiledSubDomain(\"on_boundary\")\n",
    "bc = DirichletBC(U, u_D, boundary)\n",
    "u, v = TrialFunction(U), TestFunction(U)\n",
    "\n",
    "a = inner(grad(u), grad(v)) * dx\n"
   ]
  },
  {
   "cell_type": "markdown",
   "metadata": {},
   "source": [
    "**Change this portion of the code to:**\n",
    "1. Change the forcing function to $f(x) = x$\n",
    "2. Change the forcing function to $f(x,y) = sin(\\pi x)sin(\\pi y)$"
   ]
  },
  {
   "cell_type": "code",
   "execution_count": null,
   "metadata": {},
   "outputs": [],
   "source": [
    "f_expr = Expression(\"pi*pi*sin(pi*x[0])\", pi=np.pi, degree=2)"
   ]
  },
  {
   "cell_type": "code",
   "execution_count": null,
   "metadata": {},
   "outputs": [],
   "source": [
    "L = f_expr * v * dx\n",
    "\n",
    "u_sol = Function(U, name = \"field\")\n",
    "solve(a == L, u_sol, bc)\n",
    "\n",
    "with XDMFFile(\"output/result.xdmf\") as outfile:\n",
    "    outfile.write(u_sol)"
   ]
  }
 ],
 "metadata": {
  "kernelspec": {
   "display_name": "Python 3",
   "language": "python",
   "name": "python3"
  },
  "language_info": {
   "codemirror_mode": {
    "name": "ipython",
    "version": 3
   },
   "file_extension": ".py",
   "mimetype": "text/x-python",
   "name": "python",
   "nbconvert_exporter": "python",
   "pygments_lexer": "ipython3",
   "version": "3.6.7"
  },
  "widgets": {
   "application/vnd.jupyter.widget-state+json": {
    "state": {},
    "version_major": 2,
    "version_minor": 0
   }
  }
 },
 "nbformat": 4,
 "nbformat_minor": 4
}
