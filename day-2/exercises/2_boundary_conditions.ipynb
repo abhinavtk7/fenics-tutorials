{
 "cells": [
  {
   "cell_type": "markdown",
   "metadata": {},
   "source": [
    "# Boundary conditions\n",
    "\n",
    "Implement the learning of exercise-2 from day-1 to solve the non-linear Poisson's equation with different boundary conditions. Feel free to create a 2D mesh of your preference for the problem and experiment with different boundary conditions. Write the results to XDMF and visualize them in PARAVIEW.\n",
    "\n",
    "See what happens to the error when you change the domain to a rectangular domain with dimensions $2 \\times 1$"
   ]
  },
  {
   "cell_type": "code",
   "execution_count": 18,
   "metadata": {},
   "outputs": [
    {
     "data": {
      "text/plain": [
       "(6, True)"
      ]
     },
     "execution_count": 18,
     "metadata": {},
     "output_type": "execute_result"
    }
   ],
   "source": [
    "from dolfin import *\n",
    "import numpy\n",
    "\n",
    "mesh = UnitSquareMesh(32, 32)\n",
    "# mesh = RectangleMesh(Point(0, 0), Point(2, 1), 2, 1)\n",
    "V = FunctionSpace(mesh, 'Lagrange', 1)\n",
    "\n",
    "left_boundary = CompiledSubDomain(\"on_boundary && near(x[0],0)\")\n",
    "right_boundary = CompiledSubDomain(\"on_boundary && near(x[0],1)\")\n",
    "top_boundary = CompiledSubDomain(\"on_boundary && near(x[1],1)\")\n",
    "bottom_boundary = CompiledSubDomain(\"on_boundary && near(x[1],0)\")\n",
    "\n",
    "bc_0 = DirichletBC(V, Constant(0.0), left_boundary)\n",
    "bc_1 = DirichletBC(V, Constant(1.0), right_boundary)\n",
    "bcs = [bc_0, bc_1]\n",
    "\n",
    "m = 5\n",
    "\n",
    "\n",
    "def q(u):\n",
    "    return (1+u)**m\n",
    "\n",
    "# Define variational problem\n",
    "v = TestFunction(V)\n",
    "du = TrialFunction(V)\n",
    "u = Function(V)  # most recently computed solution\n",
    "F = inner(q(u)*nabla_grad(u), nabla_grad(v))*dx\n",
    "\n",
    "J = derivative(F, u, du)\n",
    "\n",
    "# Compute solution\n",
    "problem = NonlinearVariationalProblem(F, u, bcs, J)\n",
    "solver = NonlinearVariationalSolver(problem)\n",
    "\n",
    "prm = solver.parameters\n",
    "prm['newton_solver']['absolute_tolerance'] = 1E-5\n",
    "prm['newton_solver']['relative_tolerance'] = 1E-5\n",
    "prm['newton_solver']['maximum_iterations'] = 25\n",
    "\n",
    "solver.solve()\n"
   ]
  },
  {
   "cell_type": "code",
   "execution_count": 19,
   "metadata": {},
   "outputs": [
    {
     "data": {
      "text/plain": [
       "<matplotlib.tri.tricontour.TriContourSet at 0x7f1c53518e10>"
      ]
     },
     "execution_count": 19,
     "metadata": {},
     "output_type": "execute_result"
    },
    {
     "data": {
      "image/png": "[encoded data removed]",
      "text/plain": [
       "<Figure size 432x288 with 1 Axes>"
      ]
     },
     "metadata": {
      "needs_background": "light"
     },
     "output_type": "display_data"
    }
   ],
   "source": [
    "plot(u)"
   ]
  },
  {
   "cell_type": "code",
   "execution_count": 20,
   "metadata": {},
   "outputs": [
    {
     "name": "stdout",
     "output_type": "stream",
     "text": [
      "Unitsquaremesh Max error:4.953e-03\n"
     ]
    }
   ],
   "source": [
    "\n",
    "# Find max error\n",
    "u_exact = Expression(\n",
    "    'pow((pow(2, m+1)-1)*x[0] + 1, 1.0/(m+1)) - 1', m=m, degree=1)\n",
    "u_e = interpolate(u_exact, V)\n",
    "diff = numpy.abs(u_e.vector()[:] - u.vector()[:]).max()\n",
    "print('Unitsquaremesh Max error:{0:5.3e}'.format(diff))"
   ]
  },
  {
   "cell_type": "code",
   "execution_count": 17,
   "metadata": {},
   "outputs": [
    {
     "name": "stdout",
     "output_type": "stream",
     "text": [
      "Rectanglemesh Max error:2.420e-01\n"
     ]
    }
   ],
   "source": [
    "\n",
    "# Find max error\n",
    "u_exact = Expression(\n",
    "    'pow((pow(2, m+1)-1)*x[0] + 1, 1.0/(m+1)) - 1', m=m, degree=1)\n",
    "u_e = interpolate(u_exact, V)\n",
    "diff = numpy.abs(u_e.vector()[:] - u.vector()[:]).max()\n",
    "print('Rectanglemesh Max error:{0:5.3e}'.format(diff))"
   ]
  },
  {
   "cell_type": "code",
   "execution_count": null,
   "metadata": {},
   "outputs": [],
   "source": []
  }
 ],
 "metadata": {
  "kernelspec": {
   "display_name": "Python 3",
   "language": "python",
   "name": "python3"
  },
  "language_info": {
   "codemirror_mode": {
    "name": "ipython",
    "version": 3
   },
   "file_extension": ".py",
   "mimetype": "text/x-python",
   "name": "python",
   "nbconvert_exporter": "python",
   "pygments_lexer": "ipython3",
   "version": "3.6.7"
  },
  "orig_nbformat": 4
 },
 "nbformat": 4,
 "nbformat_minor": 2
}
