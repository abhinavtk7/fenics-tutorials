{
 "cells": [
  {
   "cell_type": "markdown",
   "metadata": {},
   "source": [
    "# Plane stress v/s plane strain\n",
    "\n",
    "The objective of this exercise is to implement a finite element analysis (FEA) program using FEniCS to simulate the behavior of a beam under bending, considering both plane stress and plane strain conditions. You will write a FEniCS code to perform the analysis for both cases and compare the results with a 3D analysis of the same beam."
   ]
  },
  {
   "cell_type": "markdown",
   "metadata": {},
   "source": [
    "<?xml version=\"1.0\" encoding=\"UTF-8\" standalone=\"no\"?><!DOCTYPE svg PUBLIC \"-//W3C//DTD SVG 1.1//EN\" \"http://www.w3.org/Graphics/SVG/1.1/DTD/svg11.dtd\"><svg width=\"80%\" height=\"80%\" viewBox=\"0 0 2520 690\" version=\"1.1\" xmlns=\"http://www.w3.org/2000/svg\" xmlns:xlink=\"http://www.w3.org/1999/xlink\" xml:space=\"preserve\" xmlns:serif=\"http://www.serif.com/\" style=\"fill-rule:evenodd;clip-rule:evenodd;stroke-linejoin:round;stroke-miterlimit:2;\"><rect id=\"Artboard1\" x=\"0\" y=\"0\" width=\"2519.93\" height=\"689.376\" style=\"fill:#fff;\"/><rect x=\"120.44\" y=\"128.389\" width=\"1514.81\" height=\"450\" style=\"fill:#b9b9b9;\"/><rect x=\"84.62\" y=\"120.54\" width=\"35.82\" height=\"465.699\" style=\"fill:#3f4a47;\"/><rect x=\"1870.64\" y=\"119.688\" width=\"300\" height=\"450\" style=\"fill:#de8383;\"/><text x=\"813.67px\" y=\"98.957px\" style=\"font-family:'Montserrat-Bold', 'Montserrat';font-weight:700;font-size:93.01px;fill:#3b3b3b;\">1m</text><text x=\"2192.32px\" y=\"377.242px\" style=\"font-family:'Montserrat-Bold', 'Montserrat';font-weight:700;font-size:93.01px;fill:#3b3b3b;\">0<tspan x=\"2254.26px \" y=\"377.242px \">.</tspan>45m</text><text x=\"1902.06px\" y=\"652.461px\" style=\"font-family:'Montserrat-Bold', 'Montserrat';font-weight:700;font-size:93.01px;fill:#3b3b3b;\">0<tspan x=\"1964px 1989.3px \" y=\"652.461px 652.461px \">.3</tspan>m</text><path d=\"M1689.89,555.343l-10.318,10.318c-0,-0 -10.318,-10.318 -10.318,-10.318c-1.756,-1.756 -4.608,-1.756 -6.364,-0c-1.756,1.756 -1.756,4.608 -0,6.364l16.682,16.682l16.682,-16.682c1.756,-1.756 1.756,-4.608 -0,-6.364c-1.756,-1.756 -4.608,-1.756 -6.364,-0Z\"/><path d=\"M1675.07,128.389l-0,443.636c-0,2.484 2.016,4.5 4.5,4.5c2.483,-0 4.5,-2.016 4.5,-4.5l-0,-443.636c-0,-2.484 -2.017,-4.5 -4.5,-4.5c-2.484,-0 -4.5,2.016 -4.5,4.5Z\"/><path d=\"M1916,171.816l-10.318,10.318c0,0 -10.318,-10.318 -10.318,-10.318c-1.756,-1.756 -4.607,-1.756 -6.364,0c-1.756,1.756 -1.756,4.608 0,6.364l16.682,16.682l16.682,-16.682c1.757,-1.756 1.757,-4.608 0,-6.364c-1.756,-1.756 -4.607,-1.756 -6.364,0Z\"/><path d=\"M1901.18,119.688l0,68.81c0,2.484 2.017,4.5 4.5,4.5c2.484,0 4.5,-2.016 4.5,-4.5l0,-68.81c0,-2.484 -2.016,-4.5 -4.5,-4.5c-2.483,0 -4.5,2.016 -4.5,4.5Z\"/><path d=\"M1916,279.067l-10.318,10.318c0,0 -10.318,-10.318 -10.318,-10.318c-1.756,-1.756 -4.607,-1.756 -6.364,0c-1.756,1.756 -1.756,4.608 0,6.364l16.682,16.682l16.682,-16.682c1.757,-1.756 1.757,-4.608 0,-6.364c-1.756,-1.756 -4.607,-1.756 -6.364,0Z\"/><path d=\"M1901.18,226.939l0,68.81c0,2.484 2.017,4.5 4.5,4.5c2.484,0 4.5,-2.016 4.5,-4.5l0,-68.81c0,-2.483 -2.016,-4.5 -4.5,-4.5c-2.483,0 -4.5,2.017 -4.5,4.5Z\"/><path d=\"M1916,396.816l-10.318,10.318c0,0 -10.318,-10.318 -10.318,-10.318c-1.756,-1.756 -4.607,-1.756 -6.364,0c-1.756,1.756 -1.756,4.608 0,6.364l16.682,16.682l16.682,-16.682c1.757,-1.756 1.757,-4.608 0,-6.364c-1.756,-1.756 -4.607,-1.756 -6.364,0Z\"/><path d=\"M1901.18,344.688l0,68.81c0,2.484 2.017,4.5 4.5,4.5c2.484,0 4.5,-2.016 4.5,-4.5l0,-68.81c0,-2.484 -2.016,-4.5 -4.5,-4.5c-2.483,0 -4.5,2.016 -4.5,4.5Z\"/><path d=\"M1916,508.49l-10.318,10.318c0,-0 -10.318,-10.318 -10.318,-10.318c-1.756,-1.756 -4.607,-1.756 -6.364,-0c-1.756,1.756 -1.756,4.608 0,6.364l16.682,16.682l16.682,-16.682c1.757,-1.756 1.757,-4.608 0,-6.364c-1.756,-1.756 -4.607,-1.756 -6.364,-0Z\"/><path d=\"M1901.18,456.362l0,68.81c0,2.483 2.017,4.5 4.5,4.5c2.484,-0 4.5,-2.017 4.5,-4.5l0,-68.81c0,-2.484 -2.016,-4.5 -4.5,-4.5c-2.483,-0 -4.5,2.016 -4.5,4.5Z\"/><path d=\"M1960.32,171.816l-10.318,10.318c-0,0 -10.318,-10.318 -10.318,-10.318c-1.756,-1.756 -4.608,-1.756 -6.364,0c-1.756,1.756 -1.756,4.608 -0,6.364l16.682,16.682l16.682,-16.682c1.756,-1.756 1.756,-4.608 -0,-6.364c-1.756,-1.756 -4.608,-1.756 -6.364,0Z\"/><path d=\"M1945.5,119.688l-0,68.81c-0,2.484 2.016,4.5 4.5,4.5c2.484,0 4.5,-2.016 4.5,-4.5l-0,-68.81c-0,-2.484 -2.016,-4.5 -4.5,-4.5c-2.484,0 -4.5,2.016 -4.5,4.5Z\"/><path d=\"M1960.32,279.067l-10.318,10.318c-0,0 -10.318,-10.318 -10.318,-10.318c-1.756,-1.756 -4.608,-1.756 -6.364,0c-1.756,1.756 -1.756,4.608 -0,6.364l16.682,16.682l16.682,-16.682c1.756,-1.756 1.756,-4.608 -0,-6.364c-1.756,-1.756 -4.608,-1.756 -6.364,0Z\"/><path d=\"M1945.5,226.939l-0,68.81c-0,2.484 2.016,4.5 4.5,4.5c2.484,0 4.5,-2.016 4.5,-4.5l-0,-68.81c-0,-2.483 -2.016,-4.5 -4.5,-4.5c-2.484,0 -4.5,2.017 -4.5,4.5Z\"/><path d=\"M1960.32,396.816l-10.318,10.318c-0,0 -10.318,-10.318 -10.318,-10.318c-1.756,-1.756 -4.608,-1.756 -6.364,0c-1.756,1.756 -1.756,4.608 -0,6.364l16.682,16.682l16.682,-16.682c1.756,-1.756 1.756,-4.608 -0,-6.364c-1.756,-1.756 -4.608,-1.756 -6.364,0Z\"/><path d=\"M1945.5,344.688l-0,68.81c-0,2.484 2.016,4.5 4.5,4.5c2.484,0 4.5,-2.016 4.5,-4.5l-0,-68.81c-0,-2.484 -2.016,-4.5 -4.5,-4.5c-2.484,0 -4.5,2.016 -4.5,4.5Z\"/><path d=\"M1960.32,508.49l-10.318,10.318c-0,-0 -10.318,-10.318 -10.318,-10.318c-1.756,-1.756 -4.608,-1.756 -6.364,-0c-1.756,1.756 -1.756,4.608 -0,6.364l16.682,16.682l16.682,-16.682c1.756,-1.756 1.756,-4.608 -0,-6.364c-1.756,-1.756 -4.608,-1.756 -6.364,-0Z\"/><path d=\"M1945.5,456.362l-0,68.81c-0,2.483 2.016,4.5 4.5,4.5c2.484,-0 4.5,-2.017 4.5,-4.5l-0,-68.81c-0,-2.484 -2.016,-4.5 -4.5,-4.5c-2.484,-0 -4.5,2.016 -4.5,4.5Z\"/><path d=\"M2004.64,171.816l-10.318,10.318c0,0 -10.318,-10.318 -10.318,-10.318c-1.756,-1.756 -4.607,-1.756 -6.364,0c-1.756,1.756 -1.756,4.608 0,6.364l16.682,16.682l16.682,-16.682c1.757,-1.756 1.757,-4.608 0,-6.364c-1.756,-1.756 -4.607,-1.756 -6.364,0Z\"/><path d=\"M1989.82,119.688l0,68.81c0,2.484 2.017,4.5 4.5,4.5c2.484,0 4.5,-2.016 4.5,-4.5l0,-68.81c0,-2.484 -2.016,-4.5 -4.5,-4.5c-2.483,0 -4.5,2.016 -4.5,4.5Z\"/><path d=\"M2004.64,279.067l-10.318,10.318c0,0 -10.318,-10.318 -10.318,-10.318c-1.756,-1.756 -4.607,-1.756 -6.364,0c-1.756,1.756 -1.756,4.608 0,6.364l16.682,16.682l16.682,-16.682c1.757,-1.756 1.757,-4.608 0,-6.364c-1.756,-1.756 -4.607,-1.756 -6.364,0Z\"/><path d=\"M1989.82,226.939l0,68.81c0,2.484 2.017,4.5 4.5,4.5c2.484,0 4.5,-2.016 4.5,-4.5l0,-68.81c0,-2.483 -2.016,-4.5 -4.5,-4.5c-2.483,0 -4.5,2.017 -4.5,4.5Z\"/><path d=\"M2004.64,396.816l-10.318,10.318c0,0 -10.318,-10.318 -10.318,-10.318c-1.756,-1.756 -4.607,-1.756 -6.364,0c-1.756,1.756 -1.756,4.608 0,6.364l16.682,16.682l16.682,-16.682c1.757,-1.756 1.757,-4.608 0,-6.364c-1.756,-1.756 -4.607,-1.756 -6.364,0Z\"/><path d=\"M1989.82,344.688l0,68.81c0,2.484 2.017,4.5 4.5,4.5c2.484,0 4.5,-2.016 4.5,-4.5l0,-68.81c0,-2.484 -2.016,-4.5 -4.5,-4.5c-2.483,0 -4.5,2.016 -4.5,4.5Z\"/><path d=\"M2004.64,508.49l-10.318,10.318c0,-0 -10.318,-10.318 -10.318,-10.318c-1.756,-1.756 -4.607,-1.756 -6.364,-0c-1.756,1.756 -1.756,4.608 0,6.364l16.682,16.682l16.682,-16.682c1.757,-1.756 1.757,-4.608 0,-6.364c-1.756,-1.756 -4.607,-1.756 -6.364,-0Z\"/><path d=\"M1989.82,456.362l0,68.81c0,2.483 2.017,4.5 4.5,4.5c2.484,-0 4.5,-2.017 4.5,-4.5l0,-68.81c0,-2.484 -2.016,-4.5 -4.5,-4.5c-2.483,-0 -4.5,2.016 -4.5,4.5Z\"/><path d=\"M2048.96,171.816l-10.318,10.318c-0,0 -10.318,-10.318 -10.318,-10.318c-1.756,-1.756 -4.608,-1.756 -6.364,0c-1.756,1.756 -1.756,4.608 -0,6.364l16.682,16.682l16.682,-16.682c1.756,-1.756 1.756,-4.608 -0,-6.364c-1.756,-1.756 -4.608,-1.756 -6.364,0Z\"/><path d=\"M2034.14,119.688l-0,68.81c-0,2.484 2.016,4.5 4.5,4.5c2.483,0 4.5,-2.016 4.5,-4.5l-0,-68.81c-0,-2.484 -2.017,-4.5 -4.5,-4.5c-2.484,0 -4.5,2.016 -4.5,4.5Z\"/><path d=\"M2048.96,279.067l-10.318,10.318c-0,0 -10.318,-10.318 -10.318,-10.318c-1.756,-1.756 -4.608,-1.756 -6.364,0c-1.756,1.756 -1.756,4.608 -0,6.364l16.682,16.682l16.682,-16.682c1.756,-1.756 1.756,-4.608 -0,-6.364c-1.756,-1.756 -4.608,-1.756 -6.364,0Z\"/><path d=\"M2034.14,226.939l-0,68.81c-0,2.484 2.016,4.5 4.5,4.5c2.483,0 4.5,-2.016 4.5,-4.5l-0,-68.81c-0,-2.483 -2.017,-4.5 -4.5,-4.5c-2.484,0 -4.5,2.017 -4.5,4.5Z\"/><path d=\"M2048.96,396.816l-10.318,10.318c-0,0 -10.318,-10.318 -10.318,-10.318c-1.756,-1.756 -4.608,-1.756 -6.364,0c-1.756,1.756 -1.756,4.608 -0,6.364l16.682,16.682l16.682,-16.682c1.756,-1.756 1.756,-4.608 -0,-6.364c-1.756,-1.756 -4.608,-1.756 -6.364,0Z\"/><path d=\"M2034.14,344.688l-0,68.81c-0,2.484 2.016,4.5 4.5,4.5c2.483,0 4.5,-2.016 4.5,-4.5l-0,-68.81c-0,-2.484 -2.017,-4.5 -4.5,-4.5c-2.484,0 -4.5,2.016 -4.5,4.5Z\"/><path d=\"M2048.96,508.49l-10.318,10.318c-0,-0 -10.318,-10.318 -10.318,-10.318c-1.756,-1.756 -4.608,-1.756 -6.364,-0c-1.756,1.756 -1.756,4.608 -0,6.364l16.682,16.682l16.682,-16.682c1.756,-1.756 1.756,-4.608 -0,-6.364c-1.756,-1.756 -4.608,-1.756 -6.364,-0Z\"/><path d=\"M2034.14,456.362l-0,68.81c-0,2.483 2.016,4.5 4.5,4.5c2.483,-0 4.5,-2.017 4.5,-4.5l-0,-68.81c-0,-2.484 -2.017,-4.5 -4.5,-4.5c-2.484,-0 -4.5,2.016 -4.5,4.5Z\"/><path d=\"M2093.28,171.816l-10.318,10.318c0,0 -10.318,-10.318 -10.318,-10.318c-1.756,-1.756 -4.608,-1.756 -6.364,0c-1.756,1.756 -1.756,4.608 0,6.364l16.682,16.682l16.682,-16.682c1.756,-1.756 1.756,-4.608 0,-6.364c-1.756,-1.756 -4.608,-1.756 -6.364,0Z\"/><path d=\"M2078.46,119.688l0,68.81c0,2.484 2.017,4.5 4.5,4.5c2.484,0 4.5,-2.016 4.5,-4.5l0,-68.81c0,-2.484 -2.016,-4.5 -4.5,-4.5c-2.483,0 -4.5,2.016 -4.5,4.5Z\"/><path d=\"M2093.28,279.067l-10.318,10.318c0,0 -10.318,-10.318 -10.318,-10.318c-1.756,-1.756 -4.608,-1.756 -6.364,0c-1.756,1.756 -1.756,4.608 0,6.364l16.682,16.682l16.682,-16.682c1.756,-1.756 1.756,-4.608 0,-6.364c-1.756,-1.756 -4.608,-1.756 -6.364,0Z\"/><path d=\"M2078.46,226.939l0,68.81c0,2.484 2.017,4.5 4.5,4.5c2.484,0 4.5,-2.016 4.5,-4.5l0,-68.81c0,-2.483 -2.016,-4.5 -4.5,-4.5c-2.483,0 -4.5,2.017 -4.5,4.5Z\"/><path d=\"M2093.28,396.816l-10.318,10.318c0,0 -10.318,-10.318 -10.318,-10.318c-1.756,-1.756 -4.608,-1.756 -6.364,0c-1.756,1.756 -1.756,4.608 0,6.364l16.682,16.682l16.682,-16.682c1.756,-1.756 1.756,-4.608 0,-6.364c-1.756,-1.756 -4.608,-1.756 -6.364,0Z\"/><path d=\"M2078.46,344.688l0,68.81c0,2.484 2.017,4.5 4.5,4.5c2.484,0 4.5,-2.016 4.5,-4.5l0,-68.81c0,-2.484 -2.016,-4.5 -4.5,-4.5c-2.483,0 -4.5,2.016 -4.5,4.5Z\"/><path d=\"M2093.28,508.49l-10.318,10.318c0,-0 -10.318,-10.318 -10.318,-10.318c-1.756,-1.756 -4.608,-1.756 -6.364,-0c-1.756,1.756 -1.756,4.608 0,6.364l16.682,16.682l16.682,-16.682c1.756,-1.756 1.756,-4.608 0,-6.364c-1.756,-1.756 -4.608,-1.756 -6.364,-0Z\"/><path d=\"M2078.46,456.362l0,68.81c0,2.483 2.017,4.5 4.5,4.5c2.484,-0 4.5,-2.017 4.5,-4.5l0,-68.81c0,-2.484 -2.016,-4.5 -4.5,-4.5c-2.483,-0 -4.5,2.016 -4.5,4.5Z\"/><path d=\"M2137.6,171.816l-10.318,10.318c-0,0 -10.318,-10.318 -10.318,-10.318c-1.757,-1.756 -4.608,-1.756 -6.364,0c-1.757,1.756 -1.757,4.608 -0,6.364l16.682,16.682l16.682,-16.682c1.756,-1.756 1.756,-4.608 -0,-6.364c-1.757,-1.756 -4.608,-1.756 -6.364,0Z\"/><path d=\"M2122.78,119.688l-0,68.81c-0,2.484 2.016,4.5 4.5,4.5c2.483,0 4.5,-2.016 4.5,-4.5l-0,-68.81c-0,-2.484 -2.017,-4.5 -4.5,-4.5c-2.484,0 -4.5,2.016 -4.5,4.5Z\"/><path d=\"M2137.6,279.067l-10.318,10.318c-0,0 -10.318,-10.318 -10.318,-10.318c-1.757,-1.756 -4.608,-1.756 -6.364,0c-1.757,1.756 -1.757,4.608 -0,6.364l16.682,16.682l16.682,-16.682c1.756,-1.756 1.756,-4.608 -0,-6.364c-1.757,-1.756 -4.608,-1.756 -6.364,0Z\"/><path d=\"M2122.78,226.939l-0,68.81c-0,2.484 2.016,4.5 4.5,4.5c2.483,0 4.5,-2.016 4.5,-4.5l-0,-68.81c-0,-2.483 -2.017,-4.5 -4.5,-4.5c-2.484,0 -4.5,2.017 -4.5,4.5Z\"/><path d=\"M2137.6,396.816l-10.318,10.318c-0,0 -10.318,-10.318 -10.318,-10.318c-1.757,-1.756 -4.608,-1.756 -6.364,0c-1.757,1.756 -1.757,4.608 -0,6.364l16.682,16.682l16.682,-16.682c1.756,-1.756 1.756,-4.608 -0,-6.364c-1.757,-1.756 -4.608,-1.756 -6.364,0Z\"/><path d=\"M2122.78,344.688l-0,68.81c-0,2.484 2.016,4.5 4.5,4.5c2.483,0 4.5,-2.016 4.5,-4.5l-0,-68.81c-0,-2.484 -2.017,-4.5 -4.5,-4.5c-2.484,0 -4.5,2.016 -4.5,4.5Z\"/><path d=\"M2137.6,508.49l-10.318,10.318c-0,-0 -10.318,-10.318 -10.318,-10.318c-1.757,-1.756 -4.608,-1.756 -6.364,-0c-1.757,1.756 -1.757,4.608 -0,6.364l16.682,16.682l16.682,-16.682c1.756,-1.756 1.756,-4.608 -0,-6.364c-1.757,-1.756 -4.608,-1.756 -6.364,-0Z\"/><path d=\"M2122.78,456.362l-0,68.81c-0,2.483 2.016,4.5 4.5,4.5c2.483,-0 4.5,-2.017 4.5,-4.5l-0,-68.81c-0,-2.484 -2.017,-4.5 -4.5,-4.5c-2.484,-0 -4.5,2.016 -4.5,4.5Z\"/></svg>"
   ]
  },
  {
   "cell_type": "markdown",
   "metadata": {},
   "source": [
    "Materials:\n",
    "- Steel material properties:\n",
    "  - Young's Modulus (E): 200 GPa\n",
    "  - Poisson's Ratio (ν): 0.3\n",
    "  - Density (ρ): 7850 kg/m^3\n",
    "\n",
    "Bar Dimensions:\n",
    "- Length (Lx): 1 meter\n",
    "- Ly         : 0.3 meter \n",
    "- Lz         : 0.45 meter\n",
    "\n",
    "Boundary Conditions:\n",
    "- One end of the beam is fixed (fixed boundary condition).\n",
    "- The other end is subjected to a uniaxial downward load:\n",
    "  - Load (F): 10,000 N\n",
    "\n",
    "Mesh:\n",
    "- For 3D analysis use a simple 3D mesh for the beam, consisting of tetrahedral elements.\n",
    "- For 2D analysis use a simple 2D mesh for the beam, consisting of triangular elements."
   ]
  },
  {
   "cell_type": "markdown",
   "metadata": {},
   "source": [
    "---\n",
    "Steps:\n",
    "- Perform 3D analysis\n",
    "    1. Import FEniCS and Necessary Libraries\n",
    "    2. Define the 3D Geometry and Mesh\n",
    "    3. Define the Material Properties\n",
    "    4. Define the Boundary Conditions\n",
    "    5. Define the Finite Element Function Space\n",
    "    6. Formulate the Governing Equations\n",
    "    7. Solve the System\n",
    "- Perform 2D plane stress analysis\n",
    "    1. Define the 2D Geometry and Mesh\n",
    "    2. Define the Material Properties\n",
    "    3. Define the Boundary Conditions\n",
    "    4. Define the Finite Element Function Space\n",
    "    5. Formulate the Governing Equations\n",
    "    6. Solve the System\n",
    "- Perform 2D plane strain analysis\n",
    "    1. Define the 2D Geometry and Mesh\n",
    "    2. Define the Material Properties\n",
    "    3. Define the Boundary Conditions\n",
    "    4. Define the Finite Element Function Space\n",
    "    5. Formulate the Governing Equations\n",
    "    6. Solve the System\n",
    "- Compare the results of plane stress, plane strain and 3D analysis with analytical solution.\n",
    "- See what happens to the solution when you increase the mesh density"
   ]
  },
  {
   "cell_type": "code",
   "execution_count": 1,
   "metadata": {},
   "outputs": [],
   "source": [
    "# 1. Import FEniCS and Necessary Libraries\n",
    "from dolfin import *\n",
    "import numpy as np\n",
    "\n",
    "# --- Simulation Setup ---\n",
    "# Choose the analysis type: \"3d\", \"plane_stress\", or \"plane_strain\"\n",
    "sim_types = [\"3d\", \"plane_stress\", \"plane_strain\"]\n",
    "sim_type = sim_types[2]"
   ]
  },
  {
   "cell_type": "code",
   "execution_count": 2,
   "metadata": {},
   "outputs": [],
   "source": [
    "# --- Material and Geometry Parameters ---\n",
    "# Material Properties (Steel)\n",
    "E = 200e9       # Young's Modulus (Pa)\n",
    "nu = 0.3        # Poisson's Ratio\n",
    "rho = 7850      # Density (kg/m^3)\n",
    "\n",
    "# Beam Dimensions\n",
    "Lx, Ly, Lz = 1.0, 0.3, 0.45  # meters\n",
    "\n",
    "# Mesh Density (increase this factor to refine the mesh)\n",
    "mesh_density_factor = 1.0\n",
    "nx = int(20 * mesh_density_factor)\n",
    "ny = int(6 * mesh_density_factor)\n",
    "nz = int(9 * mesh_density_factor)\n",
    "\n",
    "# Load\n",
    "F_total = 10000.0  # Total downward force (N)\n",
    "\n",
    "# --- Derived Material Properties (Lamé Parameters) ---\n",
    "mu = E / (2 * (1 + nu))\n",
    "lmbda = E * nu / ((1 + nu) * (1 - 2 * nu))"
   ]
  },
  {
   "cell_type": "code",
   "execution_count": 3,
   "metadata": {},
   "outputs": [
    {
     "name": "stdout",
     "output_type": "stream",
     "text": [
      "--- Running PLANE STRAIN Analysis (Lz = 0.45m) ---\n"
     ]
    }
   ],
   "source": [
    "# Adjust lmbda for plane stress condition\n",
    "if sim_type == \"plane_stress\":\n",
    "    lmbda = 2 * mu * lmbda / (lmbda + 2 * mu)\n",
    "    print(f\"--- Running PLANE STRESS Analysis (Lz = {Lz}m) ---\")\n",
    "elif sim_type == \"plane_strain\":\n",
    "    print(f\"--- Running PLANE STRAIN Analysis (Lz = {Lz}m) ---\")\n",
    "else:\n",
    "    print(\"--- Running FULL 3D Analysis ---\")"
   ]
  },
  {
   "cell_type": "code",
   "execution_count": 4,
   "metadata": {},
   "outputs": [],
   "source": [
    "# --- Mesh and Function Space Definition ---\n",
    "if sim_type == \"3d\":\n",
    "    # 2. Define the 3D Geometry and Mesh\n",
    "    mesh = BoxMesh(Point(0, 0, 0), Point(Lx, Ly, Lz), nx, ny, nz)\n",
    "else: # 2D cases\n",
    "    # 2. Define the 2D Geometry and Mesh (x-y plane)\n",
    "    mesh = RectangleMesh(Point(0, 0), Point(Lx, Ly), nx, ny)"
   ]
  },
  {
   "cell_type": "code",
   "execution_count": 5,
   "metadata": {},
   "outputs": [],
   "source": [
    "# 5. Define the Finite Element Function Space\n",
    "U = VectorFunctionSpace(mesh, 'CG', 2) # Using quadratic elements for better accuracy\n",
    "dim = mesh.topology().dim()\n",
    "\n",
    "# --- Boundary Conditions ---\n",
    "# 4. Define Boundary Conditions\n",
    "# Fixed boundary (clamped at x=0)\n",
    "def fixed_boundary(x, on_boundary):\n",
    "    return on_boundary and near(x[0], 0.0)\n",
    "\n",
    "bc = DirichletBC(U, Constant((0,) * dim), fixed_boundary)\n",
    "\n",
    "# Define boundaries for applying load\n",
    "boundary_markers = MeshFunction(\"size_t\", mesh, dim - 1)\n",
    "boundary_markers.set_all(0)\n",
    "\n",
    "class LoadedBoundary(SubDomain):\n",
    "    def inside(self, x, on_boundary):\n",
    "        return on_boundary and near(x[0], Lx)\n",
    "\n",
    "loaded_boundary = LoadedBoundary()\n",
    "loaded_boundary.mark(boundary_markers, 1)\n",
    "ds = Measure('ds', domain=mesh, subdomain_data=boundary_markers)"
   ]
  },
  {
   "cell_type": "code",
   "execution_count": 6,
   "metadata": {},
   "outputs": [],
   "source": [
    "# Calculate traction (force per area or per length)\n",
    "if sim_type == \"3d\":\n",
    "    # Downward traction (force per unit area) on the end face\n",
    "    pressure = F_total / (Ly * Lz)\n",
    "    T = Constant((0.0, -pressure, 0.0))\n",
    "else: # 2D cases\n",
    "    # Downward line load (force per unit length) on the end edge\n",
    "    line_load = F_total / Lz\n",
    "    T = Constant((0.0, -line_load))"
   ]
  },
  {
   "cell_type": "code",
   "execution_count": 7,
   "metadata": {},
   "outputs": [],
   "source": [
    "# --- FE Formulation ---\n",
    "# 6. Formulate the Governing Equations\n",
    "def epsilon(u):\n",
    "    return sym(grad(u))\n",
    "\n",
    "def sigma(u):\n",
    "    return lmbda * tr(epsilon(u)) * Identity(dim) + 2 * mu * epsilon(u)\n",
    "\n",
    "# Define variational problem\n",
    "u = TrialFunction(U)\n",
    "v = TestFunction(U)\n",
    "a = inner(sigma(u), epsilon(v)) * dx\n",
    "L = dot(T, v) * ds(1)"
   ]
  },
  {
   "cell_type": "code",
   "execution_count": 8,
   "metadata": {},
   "outputs": [
    {
     "name": "stdout",
     "output_type": "stream",
     "text": [
      "Solving the linear system...\n",
      "Calling FFC just-in-time (JIT) compiler, this may take some time.\n",
      "Solution complete.\n"
     ]
    }
   ],
   "source": [
    "# --- Solve System ---\n",
    "# 7. Solve the System\n",
    "print(\"Solving the linear system...\")\n",
    "u_sol = Function(U, name=\"Displacement\")\n",
    "solve(a == L, u_sol, bc)\n",
    "print(\"Solution complete.\")"
   ]
  },
  {
   "cell_type": "code",
   "execution_count": 9,
   "metadata": {},
   "outputs": [
    {
     "name": "stdout",
     "output_type": "stream",
     "text": [
      "Calling FFC just-in-time (JIT) compiler, this may take some time.\n",
      "Saving results to files (displacement_plane_strain.pvd, von_mises_plane_strain.pvd)...\n",
      "\n",
      "--- Analysis Results ---\n",
      "Max Downward Deflection (y-dir) at tip: 0.0048 mm\n",
      "Maximum von Mises Stress: 0.34 MPa\n"
     ]
    }
   ],
   "source": [
    "# --- Post-Processing ---\n",
    "# Calculate von Mises stress\n",
    "s = dev(sigma(u_sol))\n",
    "von_Mises = project(sqrt(3.0 / 2.0 * inner(s, s)), FunctionSpace(mesh, 'DG', 0))\n",
    "\n",
    "# Save results to file\n",
    "print(f\"Saving results to files (displacement_{sim_type}.pvd, von_mises_{sim_type}.pvd)...\")\n",
    "File(f\"displacement_{sim_type}.pvd\") << u_sol\n",
    "File(f\"von_mises_{sim_type}.pvd\") << von_Mises\n",
    "\n",
    "# --- Results and Comparison ---\n",
    "print(\"\\n--- Analysis Results ---\")\n",
    "\n",
    "# Find the maximum downward displacement (at the tip)\n",
    "if sim_type == \"3d\":\n",
    "    tip_point = Point(Lx, Ly / 2, Lz / 2)\n",
    "else: # 2D\n",
    "    tip_point = Point(Lx, Ly / 2)\n",
    "\n",
    "max_deflection_y = abs(u_sol(tip_point)[1])\n",
    "print(f\"Max Downward Deflection (y-dir) at tip: {max_deflection_y * 1000:.4f} mm\")\n",
    "\n",
    "# Find max von Mises stress\n",
    "max_stress_val = von_Mises.vector().max()\n",
    "print(f\"Maximum von Mises Stress: {max_stress_val / 1e6:.2f} MPa\")"
   ]
  },
  {
   "cell_type": "code",
   "execution_count": 10,
   "metadata": {},
   "outputs": [
    {
     "name": "stdout",
     "output_type": "stream",
     "text": [
      "\n",
      "--- Analytical Comparison ---\n",
      "Analytical Max Deflection (Euler-Bernoulli): 0.0165 mm\n",
      "Percentage Error vs. Analytical: -70.99%\n",
      "\n",
      "--- End of Simulation ---\n",
      "You can now open the .pvd files in ParaView to visualize the results.\n"
     ]
    }
   ],
   "source": [
    "# 8. Compare with Analytical Solution (Euler-Bernoulli Beam Theory)\n",
    "print(\"\\n--- Analytical Comparison ---\")\n",
    "# Area moment of inertia for a rectangular cross-section\n",
    "I = (Lz * Ly**3) / 12.0\n",
    "# Max deflection for a cantilever beam with a point load at the end\n",
    "analytical_deflection = (F_total * Lx**3) / (3 * E * I)\n",
    "print(f\"Analytical Max Deflection (Euler-Bernoulli): {analytical_deflection * 1000:.4f} mm\")\n",
    "\n",
    "# Calculate percentage error\n",
    "error = 100 * (max_deflection_y - analytical_deflection) / analytical_deflection\n",
    "print(f\"Percentage Error vs. Analytical: {error:.2f}%\")\n",
    "\n",
    "print(\"\\n--- End of Simulation ---\")\n",
    "print(\"You can now open the .pvd files in ParaView to visualize the results.\")\n"
   ]
  },
  {
   "cell_type": "code",
   "execution_count": null,
   "metadata": {},
   "outputs": [],
   "source": []
  }
 ],
 "metadata": {
  "kernelspec": {
   "display_name": "Python 3",
   "language": "python",
   "name": "python3"
  },
  "language_info": {
   "codemirror_mode": {
    "name": "ipython",
    "version": 3
   },
   "file_extension": ".py",
   "mimetype": "text/x-python",
   "name": "python",
   "nbconvert_exporter": "python",
   "pygments_lexer": "ipython3",
   "version": "3.6.7"
  },
  "orig_nbformat": 4
 },
 "nbformat": 4,
 "nbformat_minor": 2
}
