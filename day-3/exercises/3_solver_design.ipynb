{
 "cells": [
  {
   "cell_type": "markdown",
   "metadata": {},
   "source": [
    "# Solver design\n",
    "\n",
    "The success of tackling complex problems often relies on the effectiveness of the solver employed. While formulating the mathematical model is crucial, paying attention to the design of an efficient and accurate solver is equally vital, as it directly impacts the quality and reliability of the results you obtain.\n",
    "\n",
    "In this exercise you will study the impact of different solver parameters on the solution."
   ]
  },
  {
   "cell_type": "code",
   "execution_count": 112,
   "metadata": {},
   "outputs": [],
   "source": [
    "from dolfin import *\n",
    "\n",
    "def elasticity_problem(num_ele_along_depth=30):\n",
    "    length, depth = 3, .300\n",
    "    ele_size = depth/num_ele_along_depth\n",
    "    mesh = RectangleMesh(Point(0, 0), Point(length, depth),\n",
    "                        int(length/ele_size), int(depth/ele_size))\n",
    "    U = VectorFunctionSpace(mesh, 'CG', 1)\n",
    "    dim = mesh.topology().dim()\n",
    "    clamped_boundary = CompiledSubDomain(\"near(x[0],0)\")\n",
    "    bc = DirichletBC(U, Constant((0,)*dim), clamped_boundary)\n",
    "    E, nu = 2e11, 0.3\n",
    "    rho, g = 7800, 9.81\n",
    "    lmbda = (E * nu) / ((1 + nu) * (1 - 2 * nu))\n",
    "    mu = E / (2 * (1 + nu))\n",
    "\n",
    "\n",
    "    def epsilon(u):\n",
    "        return 0.5*(grad(u) + grad(u).T)\n",
    "\n",
    "\n",
    "    def sigma(u):\n",
    "        return lmbda*tr(epsilon(u))*Identity(dim) + 2*mu*epsilon(u)\n",
    "\n",
    "\n",
    "    # Define variational problem\n",
    "    u, v = TrialFunction(U), TestFunction(U)\n",
    "    f = Constant((0, -rho*g))\n",
    "    a = inner(sigma(u), epsilon(v))*dx\n",
    "    L = dot(f, v)*dx\n",
    "\n",
    "    u = Function(U)\n",
    "    print(\"Number of degree's of freedom {}\".format(U.dim()))\n",
    "    problem = LinearVariationalProblem(a, L, u, bc)\n",
    "    return problem, u"
   ]
  },
  {
   "cell_type": "markdown",
   "metadata": {},
   "source": [
    "https://fenicsproject.org/pub/tutorial/html/._ftut1017.html\n",
    "|Solver | Description | | | Preconditioner    |Description   |\n",
    "| -- |--|--|--|--|--|\n",
    "| bicgstab       |  Biconjugate gradient stabilized method| | | amg              |  Algebraic multigrid|\n",
    "| cg             |  Conjugate gradient method| | | default          |  default preconditioner|\n",
    "| default        |  default linear solver| | | hypre_amg        |  Hypre algebraic multigrid (BoomerAMG)|\n",
    "| gmres          |  Generalized minimal residual method| | | hypre_euclid     |  Hypre parallel incomplete LU factorization|\n",
    "| minres         |  Minimal residual method| | | hypre_parasails  |  Hypre parallel sparse approximate inverse|\n",
    "| mumps          |  MUMPS (MUltifrontal Massively Parallel Sparse direct Solver)| | | icc              |  Incomplete Cholesky factorization|\n",
    "| petsc          |  PETSc built in LU solver| | | ilu              |  Incomplete LU factorization|\n",
    "| richardson     |  Richardson method| | | jacobi           |  Jacobi iteration|\n",
    "| superlu        |  SuperLU| | | none             |  No preconditioner|\n",
    "| tfqmr          |  Transpose-free quasi-minimal residual method| | | petsc_amg        |  PETSc algebraic multigrid|\n",
    "| umfpack        |  UMFPACK (Unsymmetric MultiFrontal sparse LU factorization)| | | sor              |  Successive over-relaxation|\n",
    "\n"
   ]
  },
  {
   "cell_type": "code",
   "execution_count": 129,
   "metadata": {},
   "outputs": [
    {
     "name": "stdout",
     "output_type": "stream",
     "text": [
      "Number of degree's of freedom 18662\n",
      "The minimum displacement is: -4.712e-04 m\n"
     ]
    }
   ],
   "source": [
    "problem, u = elasticity_problem(num_ele_along_depth=30)\n",
    "solver = LinearVariationalSolver(problem)\n",
    "\n",
    "prm = solver.parameters\n",
    "prm['linear_solver'] = 'cg'\n",
    "prm['preconditioner'] = 'ilu'\n",
    "prm['krylov_solver']['absolute_tolerance'] = 1E-9\n",
    "prm['krylov_solver']['relative_tolerance'] = 1E-9\n",
    "prm['krylov_solver']['maximum_iterations'] = 1000\n",
    "\n",
    "solver.solve()\n",
    "print(\"The minimum displacement is: {0:6.3e} m\".format(u.vector().min()))"
   ]
  },
  {
   "cell_type": "markdown",
   "metadata": {},
   "source": [
    "## The minimum displacement is: -4.71e-04 m\n",
    "- For each parameter variation, record the solver parameters used and the corresponding solution time and differnce in the minimum displacement.\n",
    "- Compare the results obtained with different solver parameters.\n",
    "- Analyze how the solution time and accuracy are affected by varying the solver parameters.\n",
    "- Based on your observations, discuss which solver parameter(s) seem to have the most significant impact on solution accuracy and computational time.\n",
    "- Consider the trade-offs between accuracy and computation time when choosing different solver configurations."
   ]
  },
  {
   "cell_type": "markdown",
   "metadata": {},
   "source": [
    "1. Task 1: Considering `num_ele_along_depth=30`, change the tolerance to 1E-5. What difference do you observe in the solution?\n",
    "2. Task 2: Now change the preconditioner to `hypre_euclid`. What happens to the solution?\n",
    "3. Task 3: Change the preconditioner to `none` and see what happens\n",
    "4. Task 4: Change the solver to `mumps` and see what happens"
   ]
  },
  {
   "cell_type": "markdown",
   "metadata": {},
   "source": []
  }
 ],
 "metadata": {
  "kernelspec": {
   "display_name": "Python 3",
   "language": "python",
   "name": "python3"
  },
  "language_info": {
   "codemirror_mode": {
    "name": "ipython",
    "version": 3
   },
   "file_extension": ".py",
   "mimetype": "text/x-python",
   "name": "python",
   "nbconvert_exporter": "python",
   "pygments_lexer": "ipython3",
   "version": "3.6.7"
  },
  "orig_nbformat": 4
 },
 "nbformat": 4,
 "nbformat_minor": 2
}
